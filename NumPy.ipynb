{
 "cells": [
  {
   "cell_type": "code",
   "execution_count": null,
   "id": "0d54677f",
   "metadata": {},
   "outputs": [],
   "source": [
    "#numpy --> eg ludo game (creating random numbers from (1 to 6) by using numpy random function)"
   ]
  },
  {
   "cell_type": "code",
   "execution_count": null,
   "id": "626770ef",
   "metadata": {},
   "outputs": [],
   "source": [
    "#FUNCTIONS | Built-in Methods\n",
    "\n",
    "#arange   --> if you need a number in some range\n",
    "#zeros    --> if you need the numbers in ZEROS \n",
    "#ones     --> if you need the numbers in ones\n",
    "#linspace --> it will generate a number in seperate interval of time\n",
    "#eye      --> it will create a identity matrix by using eye\n",
    "#Random   --> rand / randn / randint   (random is used to create a random numbers)\n",
    "#random.rand ---> create a random numbers by giving range eg: np.random.rand(4) / matrix number eg: np.radom.rand(5,5) (eg : ludo)\n",
    "#random.randn --> create a numbers by using standard normal distribution\n",
    "#random.rantint --> random numbers from low(inclusive) and high(exclusive)\n",
    "#reshape\n",
    "#max,min,argmax,argmin (max and min --> provides maximum and minimum num)\n",
    "#argmax,argmin --> this will give the index number\n",
    "#indexing and selection\n",
    "#Broadcasting (normally broadcasting features will not be there in  the list, but we have oin numpy thats one advantage)\n",
    "\n",
    "#Broadcast - means setting the value with index range\n",
    "#copy()  --> to copy some data in array (to avoid slicing issues) -->check the example in below code\n",
    "\n",
    "#Arithmetic Function\n",
    "---------------------\n",
    "\n",
    "#np.sqrt() --> square root\n",
    "#np.exp() -->  calculating exponential (e^)\n",
    "\n",
    "#Practices\n",
    "----------\n",
    "\n",
    "#create an array of 10 zeros & ones\n",
    "#create an array of 10 fives\n",
    "#create an array of the integers from 10 to 50\n",
    "#create an array of all even numbers from 10 to 50\n",
    "#create a 3x3 matrics with value range 0 to 8.\n",
    "#create a 3x3 identity matrix\n",
    "#generate a random numbers between 0 & 1\n",
    "#generate 25 random numbers from a std(standard normal distribution)\n",
    "#create a array 20 line spaced points b/w 0 & 1\n",
    "\n",
    "#Note : in numpy we have a function called (ndarray)  ---> which is 5o times faster than list, also numpy arrays are stored in continuous place in memory b"
   ]
  },
  {
   "cell_type": "code",
   "execution_count": 3,
   "id": "cd29fdb0",
   "metadata": {},
   "outputs": [
    {
     "data": {
      "text/plain": [
       "array([0, 1, 2, 3, 4, 5, 6, 7, 8, 9])"
      ]
     },
     "execution_count": 3,
     "metadata": {},
     "output_type": "execute_result"
    }
   ],
   "source": [
    "#arange\n",
    "\n",
    "import numpy as np\n",
    "\n",
    "a = np.arange(0,10)\n",
    "a"
   ]
  },
  {
   "cell_type": "code",
   "execution_count": 4,
   "id": "793de92f",
   "metadata": {},
   "outputs": [
    {
     "data": {
      "text/plain": [
       "array([0., 0., 0.])"
      ]
     },
     "execution_count": 4,
     "metadata": {},
     "output_type": "execute_result"
    }
   ],
   "source": [
    "#zeros and ones\n",
    "\n",
    "b = np.zeros(3)\n",
    "b"
   ]
  },
  {
   "cell_type": "code",
   "execution_count": 5,
   "id": "bf6c61e5",
   "metadata": {},
   "outputs": [
    {
     "data": {
      "text/plain": [
       "array([[0., 0., 0., 0., 0.],\n",
       "       [0., 0., 0., 0., 0.],\n",
       "       [0., 0., 0., 0., 0.],\n",
       "       [0., 0., 0., 0., 0.],\n",
       "       [0., 0., 0., 0., 0.]])"
      ]
     },
     "execution_count": 5,
     "metadata": {},
     "output_type": "execute_result"
    }
   ],
   "source": [
    "b = np.zeros((5,5))\n",
    "b"
   ]
  },
  {
   "cell_type": "code",
   "execution_count": 6,
   "id": "e34a0d8e",
   "metadata": {},
   "outputs": [
    {
     "data": {
      "text/plain": [
       "array([1., 1., 1., 1., 1.])"
      ]
     },
     "execution_count": 6,
     "metadata": {},
     "output_type": "execute_result"
    }
   ],
   "source": [
    "c = np.ones(5)\n",
    "c"
   ]
  },
  {
   "cell_type": "code",
   "execution_count": 7,
   "id": "48137521",
   "metadata": {},
   "outputs": [
    {
     "data": {
      "text/plain": [
       "array([[1., 1., 1.],\n",
       "       [1., 1., 1.],\n",
       "       [1., 1., 1.]])"
      ]
     },
     "execution_count": 7,
     "metadata": {},
     "output_type": "execute_result"
    }
   ],
   "source": [
    "c = np.ones((3,3))\n",
    "c"
   ]
  },
  {
   "cell_type": "code",
   "execution_count": 8,
   "id": "b96c6b60",
   "metadata": {},
   "outputs": [
    {
     "data": {
      "text/plain": [
       "array([ 1. ,  5.5, 10. ])"
      ]
     },
     "execution_count": 8,
     "metadata": {},
     "output_type": "execute_result"
    }
   ],
   "source": [
    "#linspace\n",
    "\n",
    "a = np.linspace(1,10,3)\n",
    "a\n",
    "\n",
    "#(number will generate from 1 to 10 , space will split of 3)"
   ]
  },
  {
   "cell_type": "code",
   "execution_count": 9,
   "id": "461dbf10",
   "metadata": {},
   "outputs": [
    {
     "data": {
      "text/plain": [
       "array([[1., 0., 0.],\n",
       "       [0., 1., 0.],\n",
       "       [0., 0., 1.]])"
      ]
     },
     "execution_count": 9,
     "metadata": {},
     "output_type": "execute_result"
    }
   ],
   "source": [
    "#eye\n",
    "\n",
    "a = np.eye(3)\n",
    "a"
   ]
  },
  {
   "cell_type": "code",
   "execution_count": 10,
   "id": "6fda61af",
   "metadata": {},
   "outputs": [
    {
     "data": {
      "text/plain": [
       "array([0.60535309, 0.66175222, 0.60947063, 0.79593503])"
      ]
     },
     "execution_count": 10,
     "metadata": {},
     "output_type": "execute_result"
    }
   ],
   "source": [
    "#random\n",
    "#random.rand\n",
    "#random.randn\n",
    "#random.randint\n",
    "\n",
    "a = np.random.rand(4)\n",
    "a"
   ]
  },
  {
   "cell_type": "code",
   "execution_count": 11,
   "id": "ded2b70f",
   "metadata": {},
   "outputs": [
    {
     "data": {
      "text/plain": [
       "array([[0.68195742, 0.63203618, 0.09225754, 0.43987784, 0.74604037],\n",
       "       [0.08176338, 0.52084638, 0.91118085, 0.05770171, 0.00308678],\n",
       "       [0.28734992, 0.79699134, 0.01504986, 0.24154606, 0.24683791],\n",
       "       [0.33085378, 0.4707151 , 0.22505263, 0.17323409, 0.61801504],\n",
       "       [0.67996751, 0.48291879, 0.92266984, 0.27741795, 0.6335855 ]])"
      ]
     },
     "execution_count": 11,
     "metadata": {},
     "output_type": "execute_result"
    }
   ],
   "source": [
    "a = np.random.rand(5,5)\n",
    "a"
   ]
  },
  {
   "cell_type": "code",
   "execution_count": 12,
   "id": "01003575",
   "metadata": {},
   "outputs": [
    {
     "data": {
      "text/plain": [
       "array([-0.70599391, -0.690869  , -0.84110683,  1.102806  ])"
      ]
     },
     "execution_count": 12,
     "metadata": {},
     "output_type": "execute_result"
    }
   ],
   "source": [
    "b = np.random.randn(4)\n",
    "b"
   ]
  },
  {
   "cell_type": "code",
   "execution_count": 13,
   "id": "919573be",
   "metadata": {},
   "outputs": [
    {
     "data": {
      "text/plain": [
       "array([[-1.14158463,  0.56741819,  1.51596941,  0.67317614,  0.56165959],\n",
       "       [ 1.09402309,  0.39434024, -0.88004849, -0.45483028, -0.19774712],\n",
       "       [-0.91036652, -0.21456963, -0.13503147, -1.13855038, -0.42223846],\n",
       "       [ 0.98867978,  0.69387919, -1.60193391,  0.91839128, -0.16070514],\n",
       "       [ 1.08566258,  1.36935753, -1.92809863, -0.93410643, -0.0136631 ]])"
      ]
     },
     "execution_count": 13,
     "metadata": {},
     "output_type": "execute_result"
    }
   ],
   "source": [
    "b = np.random.randn(5,5)\n",
    "b"
   ]
  },
  {
   "cell_type": "code",
   "execution_count": 14,
   "id": "ae850c06",
   "metadata": {},
   "outputs": [
    {
     "data": {
      "text/plain": [
       "3"
      ]
     },
     "execution_count": 14,
     "metadata": {},
     "output_type": "execute_result"
    }
   ],
   "source": [
    "#randint --> see the below example \n",
    "\n",
    "c = np.random.randint(1,7)\n",
    "c"
   ]
  },
  {
   "cell_type": "code",
   "execution_count": 15,
   "id": "99e3f3fd",
   "metadata": {},
   "outputs": [
    {
     "data": {
      "text/plain": [
       "array([3, 3, 3, 1, 4, 1, 2, 5, 5, 5])"
      ]
     },
     "execution_count": 15,
     "metadata": {},
     "output_type": "execute_result"
    }
   ],
   "source": [
    "c = np.random.randint(1,6,10)   #i want numbers 1 to 6 , but need 10 times\n",
    "c"
   ]
  },
  {
   "cell_type": "code",
   "execution_count": 16,
   "id": "0327304c",
   "metadata": {},
   "outputs": [
    {
     "data": {
      "text/plain": [
       "array([ 0,  1,  2,  3,  4,  5,  6,  7,  8,  9, 10, 11, 12, 13, 14, 15, 16,\n",
       "       17, 18, 19, 20, 21, 22, 23, 24])"
      ]
     },
     "execution_count": 16,
     "metadata": {},
     "output_type": "execute_result"
    }
   ],
   "source": [
    "#Array attributes and methods\n",
    "\n",
    "a = np.arange(25)\n",
    "a"
   ]
  },
  {
   "cell_type": "code",
   "execution_count": 17,
   "id": "4a869540",
   "metadata": {},
   "outputs": [
    {
     "data": {
      "text/plain": [
       "array([16, 21, 28,  3, 17,  1,  2, 23,  3, 44])"
      ]
     },
     "execution_count": 17,
     "metadata": {},
     "output_type": "execute_result"
    }
   ],
   "source": [
    "an = np.random.randint(0,50,10)\n",
    "an"
   ]
  },
  {
   "cell_type": "code",
   "execution_count": 18,
   "id": "d8c908f5",
   "metadata": {},
   "outputs": [
    {
     "data": {
      "text/plain": [
       "array([[ 0,  1,  2,  3,  4],\n",
       "       [ 5,  6,  7,  8,  9],\n",
       "       [10, 11, 12, 13, 14],\n",
       "       [15, 16, 17, 18, 19],\n",
       "       [20, 21, 22, 23, 24]])"
      ]
     },
     "execution_count": 18,
     "metadata": {},
     "output_type": "execute_result"
    }
   ],
   "source": [
    "d = a.reshape(5,5)\n",
    "d"
   ]
  },
  {
   "cell_type": "code",
   "execution_count": 19,
   "id": "8108ca31",
   "metadata": {},
   "outputs": [
    {
     "name": "stdout",
     "output_type": "stream",
     "text": [
      "[1 3 4 2 6 7 8 4 5]\n",
      "8\n",
      "1\n",
      "6\n",
      "0\n"
     ]
    }
   ],
   "source": [
    "#max,min,argmax,argmin\n",
    "a = np.array([1,3,4,2,6,7,8,4,5])\n",
    "print(a)\n",
    "b = np.max(a)\n",
    "c = np.min(a)\n",
    "d = np.argmax(a)\n",
    "e = np.argmin(a)\n",
    "\n",
    "print(b)\n",
    "print(c)\n",
    "print(d)\n",
    "print(e)"
   ]
  },
  {
   "cell_type": "code",
   "execution_count": 20,
   "id": "672d68ee",
   "metadata": {},
   "outputs": [
    {
     "name": "stdout",
     "output_type": "stream",
     "text": [
      "[0 1 2 3 4 5 6 7 8 9]\n"
     ]
    },
    {
     "data": {
      "text/plain": [
       "array([1000, 1000, 1000, 1000,    4,    5,    6,    7,    8,    9])"
      ]
     },
     "execution_count": 20,
     "metadata": {},
     "output_type": "execute_result"
    }
   ],
   "source": [
    "#broadcasting\n",
    "a = np.arange(10)\n",
    "print(a)\n",
    "\n",
    "a[0:4] = 1000\n",
    "a"
   ]
  },
  {
   "cell_type": "code",
   "execution_count": 21,
   "id": "7705e8d7",
   "metadata": {},
   "outputs": [
    {
     "name": "stdout",
     "output_type": "stream",
     "text": [
      "[0 1 2 3 4 5 6 7 8 9]\n",
      "[0 1 2 3]\n",
      "[777 777 777 777]\n",
      "[777 777 777 777   4   5   6   7   8   9]\n"
     ]
    }
   ],
   "source": [
    "# slicing --> problem example\n",
    "\n",
    "a = np.arange(10)\n",
    "print(a)\n",
    "\n",
    "s = a[0:4]     # here i need 0 to 4 index values and saving that to \"s\"\n",
    "print(s)\n",
    "\n",
    "s[:] = 777       # here i am going to replace with \"777\" number in \"S\"\n",
    "print(s)\n",
    "\n",
    "print(a)      # but when i check in main array, this is also changes , hence to overcome this we are using \"copy()\" method, which does not affect main array\n",
    "\n",
    "#copy()"
   ]
  },
  {
   "cell_type": "code",
   "execution_count": 22,
   "id": "89a7ecbd",
   "metadata": {},
   "outputs": [
    {
     "name": "stdout",
     "output_type": "stream",
     "text": [
      "[0 1 2 3 4 5 6 7 8 9]\n",
      "[0 1 2 3]\n",
      "[333 333 333 333]\n",
      "[0 1 2 3 4 5 6 7 8 9]\n"
     ]
    }
   ],
   "source": [
    "#copy()\n",
    "\n",
    "a = np.arange(10)\n",
    "print(a)\n",
    "\n",
    "s = a[0:4].copy()\n",
    "print(s)\n",
    "\n",
    "s[:] = 333\n",
    "print(s)\n",
    "\n",
    "print(a)"
   ]
  },
  {
   "cell_type": "code",
   "execution_count": 23,
   "id": "babba5c1",
   "metadata": {},
   "outputs": [
    {
     "name": "stdout",
     "output_type": "stream",
     "text": [
      "[ 0  1  2  3  4  5  6  7  8  9 10]\n",
      "[  0   1   4   9  16  25  36  49  64  81 100]\n",
      "[ 0  2  4  6  8 10 12 14 16 18 20]\n",
      "[nan  1.  1.  1.  1.  1.  1.  1.  1.  1.  1.]\n",
      "[   0    1    8   27   64  125  216  343  512  729 1000]\n"
     ]
    },
    {
     "name": "stderr",
     "output_type": "stream",
     "text": [
      "C:\\Users\\KEERTH~1\\AppData\\Local\\Temp/ipykernel_5336/2993351033.py:11: RuntimeWarning: invalid value encountered in true_divide\n",
      "  print(c/c)      #output will come but this will throw error / wraning as the data has \"0\" values , anything/0 = infininity (so it will give error)\n"
     ]
    }
   ],
   "source": [
    "#Arithmetic operation \n",
    "\n",
    "#can't be performed these in LIST so easily\n",
    "#but you can do it in NUMPY easily\n",
    "\n",
    "c = np.arange(0,11)\n",
    "print(c)\n",
    "\n",
    "print(c*c)      #it will work\n",
    "print(c+c)      #it will work\n",
    "print(c/c)      #output will come but this will throw error / wraning as the data has \"0\" values , anything/0 = infininity (so it will give error)\n",
    "print(c ** 3)   #o/p will come , but this will throw error / wraning as the data has \"0\" values , anything/0 = infininity (so it will give error)"
   ]
  },
  {
   "cell_type": "code",
   "execution_count": 24,
   "id": "5ee999b0",
   "metadata": {},
   "outputs": [
    {
     "data": {
      "text/plain": [
       "array([0.        , 1.        , 1.41421356, 1.73205081, 2.        ,\n",
       "       2.23606798, 2.44948974, 2.64575131, 2.82842712, 3.        ,\n",
       "       3.16227766])"
      ]
     },
     "execution_count": 24,
     "metadata": {},
     "output_type": "execute_result"
    }
   ],
   "source": [
    "np.sqrt(c)"
   ]
  },
  {
   "cell_type": "code",
   "execution_count": 25,
   "id": "e85bc67a",
   "metadata": {},
   "outputs": [
    {
     "data": {
      "text/plain": [
       "array([1.00000000e+00, 2.71828183e+00, 7.38905610e+00, 2.00855369e+01,\n",
       "       5.45981500e+01, 1.48413159e+02, 4.03428793e+02, 1.09663316e+03,\n",
       "       2.98095799e+03, 8.10308393e+03, 2.20264658e+04])"
      ]
     },
     "execution_count": 25,
     "metadata": {},
     "output_type": "execute_result"
    }
   ],
   "source": [
    "np.exp(c)"
   ]
  },
  {
   "cell_type": "code",
   "execution_count": 26,
   "id": "7c5b41d5",
   "metadata": {},
   "outputs": [
    {
     "name": "stdout",
     "output_type": "stream",
     "text": [
      "[0. 0. 0. 0. 0. 0. 0. 0. 0. 0.]\n",
      "[1. 1. 1. 1. 1. 1. 1. 1. 1. 1.]\n"
     ]
    }
   ],
   "source": [
    "#practice\n",
    "\n",
    "#create an array of 10 zeros and ones\n",
    "\n",
    "p = np.zeros(10)\n",
    "print(p)\n",
    "\n",
    "p_1 = np.ones(10)\n",
    "print(p_1)"
   ]
  },
  {
   "cell_type": "code",
   "execution_count": 27,
   "id": "4d34d6fc",
   "metadata": {},
   "outputs": [
    {
     "data": {
      "text/plain": [
       "array([5., 5., 5., 5., 5., 5., 5., 5., 5., 5.])"
      ]
     },
     "execution_count": 27,
     "metadata": {},
     "output_type": "execute_result"
    }
   ],
   "source": [
    "#create an array of 10 fives\n",
    "\n",
    "p = np.ones(10) * 5\n",
    "p"
   ]
  },
  {
   "cell_type": "code",
   "execution_count": 28,
   "id": "a58f9570",
   "metadata": {},
   "outputs": [
    {
     "data": {
      "text/plain": [
       "array([10, 11, 12, 13, 14, 15, 16, 17, 18, 19, 20, 21, 22, 23, 24, 25, 26,\n",
       "       27, 28, 29, 30, 31, 32, 33, 34, 35, 36, 37, 38, 39, 40, 41, 42, 43,\n",
       "       44, 45, 46, 47, 48, 49, 50])"
      ]
     },
     "execution_count": 28,
     "metadata": {},
     "output_type": "execute_result"
    }
   ],
   "source": [
    "#create an array of the integers 10 to 50\n",
    "\n",
    "p = np.arange(10,51)\n",
    "p"
   ]
  },
  {
   "cell_type": "code",
   "execution_count": 29,
   "id": "b9f66f6f",
   "metadata": {},
   "outputs": [
    {
     "data": {
      "text/plain": [
       "array([10, 12, 14, 16, 18, 20, 22, 24, 26, 28, 30, 32, 34, 36, 38, 40, 42,\n",
       "       44, 46, 48, 50])"
      ]
     },
     "execution_count": 29,
     "metadata": {},
     "output_type": "execute_result"
    }
   ],
   "source": [
    "#create an array of all even integers 10 to 50\n",
    "\n",
    "p = np.arange(10,51,2)\n",
    "p"
   ]
  },
  {
   "cell_type": "code",
   "execution_count": 30,
   "id": "c3a0c940",
   "metadata": {},
   "outputs": [
    {
     "data": {
      "text/plain": [
       "array([[0, 1, 2],\n",
       "       [3, 4, 5],\n",
       "       [6, 7, 8]])"
      ]
     },
     "execution_count": 30,
     "metadata": {},
     "output_type": "execute_result"
    }
   ],
   "source": [
    "#create a 3x3 matrix with he value range 0 to 8\n",
    "\n",
    "p = np.arange(9).reshape(3,3)\n",
    "p"
   ]
  },
  {
   "cell_type": "code",
   "execution_count": 31,
   "id": "2d8659db",
   "metadata": {},
   "outputs": [
    {
     "data": {
      "text/plain": [
       "array([[1., 0., 0.],\n",
       "       [0., 1., 0.],\n",
       "       [0., 0., 1.]])"
      ]
     },
     "execution_count": 31,
     "metadata": {},
     "output_type": "execute_result"
    }
   ],
   "source": [
    "#create a 3x3 identity matrix\n",
    "\n",
    "p = np.eye(3)\n",
    "p"
   ]
  },
  {
   "cell_type": "code",
   "execution_count": 32,
   "id": "4198966d",
   "metadata": {},
   "outputs": [
    {
     "data": {
      "text/plain": [
       "array([0.62657597])"
      ]
     },
     "execution_count": 32,
     "metadata": {},
     "output_type": "execute_result"
    }
   ],
   "source": [
    "#generate a random numbers  0 to 1\n",
    "\n",
    "p = np.random.rand(1)\n",
    "p"
   ]
  },
  {
   "cell_type": "code",
   "execution_count": 33,
   "id": "409cf5fb",
   "metadata": {},
   "outputs": [
    {
     "data": {
      "text/plain": [
       "array([ 1.72289742,  1.16101511, -0.75313284, -0.25137633, -0.73291089,\n",
       "        0.45988446,  1.91673645,  0.02623175, -0.77188836, -1.96601345,\n",
       "        0.40341005,  1.13851148, -1.02379695, -1.01214442,  0.44817536,\n",
       "       -1.47962734,  1.43136536,  0.66991338, -0.94496713,  0.68789571,\n",
       "       -0.41849342, -0.30724711, -0.94285006, -1.95706349,  0.66406458])"
      ]
     },
     "execution_count": 33,
     "metadata": {},
     "output_type": "execute_result"
    }
   ],
   "source": [
    "#generate 25 numbers from standard deviation distribution\n",
    "\n",
    "p = np.random.randn(25)\n",
    "p"
   ]
  },
  {
   "cell_type": "code",
   "execution_count": 34,
   "id": "dfbb3be1",
   "metadata": {},
   "outputs": [
    {
     "data": {
      "text/plain": [
       "array([0.        , 0.05263158, 0.10526316, 0.15789474, 0.21052632,\n",
       "       0.26315789, 0.31578947, 0.36842105, 0.42105263, 0.47368421,\n",
       "       0.52631579, 0.57894737, 0.63157895, 0.68421053, 0.73684211,\n",
       "       0.78947368, 0.84210526, 0.89473684, 0.94736842, 1.        ])"
      ]
     },
     "execution_count": 34,
     "metadata": {},
     "output_type": "execute_result"
    }
   ],
   "source": [
    "#create an array 20 line spaced points b/w 0 & 1\n",
    "\n",
    "p = np.linspace(0,1,20)\n",
    "p"
   ]
  },
  {
   "cell_type": "code",
   "execution_count": null,
   "id": "760a470f",
   "metadata": {},
   "outputs": [],
   "source": []
  }
 ],
 "metadata": {
  "kernelspec": {
   "display_name": "Python 3 (ipykernel)",
   "language": "python",
   "name": "python3"
  },
  "language_info": {
   "codemirror_mode": {
    "name": "ipython",
    "version": 3
   },
   "file_extension": ".py",
   "mimetype": "text/x-python",
   "name": "python",
   "nbconvert_exporter": "python",
   "pygments_lexer": "ipython3",
   "version": "3.9.5"
  }
 },
 "nbformat": 4,
 "nbformat_minor": 5
}
